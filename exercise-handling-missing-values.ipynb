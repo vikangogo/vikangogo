{
 "cells": [
  {
   "cell_type": "markdown",
   "id": "804791c7",
   "metadata": {
    "papermill": {
     "duration": 0.026238,
     "end_time": "2022-04-15T07:38:59.055225",
     "exception": false,
     "start_time": "2022-04-15T07:38:59.028987",
     "status": "completed"
    },
    "tags": []
   },
   "source": [
    "**This notebook is an exercise in the [Data Cleaning](https://www.kaggle.com/learn/data-cleaning) course.  You can reference the tutorial at [this link](https://www.kaggle.com/alexisbcook/handling-missing-values).**\n",
    "\n",
    "---\n"
   ]
  },
  {
   "cell_type": "markdown",
   "id": "3d84b121",
   "metadata": {
    "papermill": {
     "duration": 0.024422,
     "end_time": "2022-04-15T07:38:59.097361",
     "exception": false,
     "start_time": "2022-04-15T07:38:59.072939",
     "status": "completed"
    },
    "tags": []
   },
   "source": [
    "In this exercise, you'll apply what you learned in the **Handling missing values** tutorial.\n",
    "\n",
    "# Setup\n",
    "\n",
    "The questions below will give you feedback on your work. Run the following cell to set up the feedback system."
   ]
  },
  {
   "cell_type": "code",
   "execution_count": 1,
   "id": "ea889d4f",
   "metadata": {
    "execution": {
     "iopub.execute_input": "2022-04-15T07:38:59.142612Z",
     "iopub.status.busy": "2022-04-15T07:38:59.141885Z",
     "iopub.status.idle": "2022-04-15T07:39:02.672625Z",
     "shell.execute_reply": "2022-04-15T07:39:02.671754Z"
    },
    "papermill": {
     "duration": 3.552114,
     "end_time": "2022-04-15T07:39:02.674766",
     "exception": false,
     "start_time": "2022-04-15T07:38:59.122652",
     "status": "completed"
    },
    "tags": []
   },
   "outputs": [
    {
     "name": "stderr",
     "output_type": "stream",
     "text": [
      "/opt/conda/lib/python3.7/site-packages/ipykernel_launcher.py:3: DtypeWarning: Columns (22,32) have mixed types.Specify dtype option on import or set low_memory=False.\n",
      "  This is separate from the ipykernel package so we can avoid doing imports until\n"
     ]
    },
    {
     "name": "stdout",
     "output_type": "stream",
     "text": [
      "Setup Complete\n"
     ]
    }
   ],
   "source": [
    "from learntools.core import binder\n",
    "binder.bind(globals())\n",
    "from learntools.data_cleaning.ex1 import *\n",
    "print(\"Setup Complete\")"
   ]
  },
  {
   "cell_type": "markdown",
   "id": "969bfbf2",
   "metadata": {
    "papermill": {
     "duration": 0.018295,
     "end_time": "2022-04-15T07:39:02.711479",
     "exception": false,
     "start_time": "2022-04-15T07:39:02.693184",
     "status": "completed"
    },
    "tags": []
   },
   "source": [
    "# 1) Take a first look at the data\n",
    "\n",
    "Run the next code cell to load in the libraries and dataset you'll use to complete the exercise."
   ]
  },
  {
   "cell_type": "code",
   "execution_count": 2,
   "id": "4ffe1f7f",
   "metadata": {
    "execution": {
     "iopub.execute_input": "2022-04-15T07:39:02.749711Z",
     "iopub.status.busy": "2022-04-15T07:39:02.748989Z",
     "iopub.status.idle": "2022-04-15T07:39:04.167809Z",
     "shell.execute_reply": "2022-04-15T07:39:04.166393Z"
    },
    "papermill": {
     "duration": 1.441292,
     "end_time": "2022-04-15T07:39:04.171240",
     "exception": false,
     "start_time": "2022-04-15T07:39:02.729948",
     "status": "completed"
    },
    "tags": []
   },
   "outputs": [
    {
     "name": "stderr",
     "output_type": "stream",
     "text": [
      "/opt/conda/lib/python3.7/site-packages/IPython/core/interactiveshell.py:3524: DtypeWarning: Columns (22,32) have mixed types.Specify dtype option on import or set low_memory=False.\n",
      "  exec(code_obj, self.user_global_ns, self.user_ns)\n"
     ]
    }
   ],
   "source": [
    "# modules we'll use\n",
    "import pandas as pd\n",
    "import numpy as np\n",
    "\n",
    "# read in all our data\n",
    "sf_permits = pd.read_csv(\"../input/building-permit-applications-data/Building_Permits.csv\")\n",
    "\n",
    "# set seed for reproducibility\n",
    "np.random.seed(0) "
   ]
  },
  {
   "cell_type": "markdown",
   "id": "71f4e02a",
   "metadata": {
    "papermill": {
     "duration": 0.018793,
     "end_time": "2022-04-15T07:39:04.209936",
     "exception": false,
     "start_time": "2022-04-15T07:39:04.191143",
     "status": "completed"
    },
    "tags": []
   },
   "source": [
    "Use the code cell below to print the first five rows of the `sf_permits` DataFrame."
   ]
  },
  {
   "cell_type": "code",
   "execution_count": 3,
   "id": "cf121c73",
   "metadata": {
    "execution": {
     "iopub.execute_input": "2022-04-15T07:39:04.247630Z",
     "iopub.status.busy": "2022-04-15T07:39:04.247319Z",
     "iopub.status.idle": "2022-04-15T07:39:04.278652Z",
     "shell.execute_reply": "2022-04-15T07:39:04.277823Z"
    },
    "papermill": {
     "duration": 0.053038,
     "end_time": "2022-04-15T07:39:04.281088",
     "exception": false,
     "start_time": "2022-04-15T07:39:04.228050",
     "status": "completed"
    },
    "tags": []
   },
   "outputs": [
    {
     "data": {
      "text/html": [
       "<div>\n",
       "<style scoped>\n",
       "    .dataframe tbody tr th:only-of-type {\n",
       "        vertical-align: middle;\n",
       "    }\n",
       "\n",
       "    .dataframe tbody tr th {\n",
       "        vertical-align: top;\n",
       "    }\n",
       "\n",
       "    .dataframe thead th {\n",
       "        text-align: right;\n",
       "    }\n",
       "</style>\n",
       "<table border=\"1\" class=\"dataframe\">\n",
       "  <thead>\n",
       "    <tr style=\"text-align: right;\">\n",
       "      <th></th>\n",
       "      <th>Permit Number</th>\n",
       "      <th>Permit Type</th>\n",
       "      <th>Permit Type Definition</th>\n",
       "      <th>Permit Creation Date</th>\n",
       "      <th>Block</th>\n",
       "      <th>Lot</th>\n",
       "      <th>Street Number</th>\n",
       "      <th>Street Number Suffix</th>\n",
       "      <th>Street Name</th>\n",
       "      <th>Street Suffix</th>\n",
       "      <th>...</th>\n",
       "      <th>Existing Construction Type</th>\n",
       "      <th>Existing Construction Type Description</th>\n",
       "      <th>Proposed Construction Type</th>\n",
       "      <th>Proposed Construction Type Description</th>\n",
       "      <th>Site Permit</th>\n",
       "      <th>Supervisor District</th>\n",
       "      <th>Neighborhoods - Analysis Boundaries</th>\n",
       "      <th>Zipcode</th>\n",
       "      <th>Location</th>\n",
       "      <th>Record ID</th>\n",
       "    </tr>\n",
       "  </thead>\n",
       "  <tbody>\n",
       "    <tr>\n",
       "      <th>0</th>\n",
       "      <td>201505065519</td>\n",
       "      <td>4</td>\n",
       "      <td>sign - erect</td>\n",
       "      <td>05/06/2015</td>\n",
       "      <td>0326</td>\n",
       "      <td>023</td>\n",
       "      <td>140</td>\n",
       "      <td>NaN</td>\n",
       "      <td>Ellis</td>\n",
       "      <td>St</td>\n",
       "      <td>...</td>\n",
       "      <td>3.0</td>\n",
       "      <td>constr type 3</td>\n",
       "      <td>NaN</td>\n",
       "      <td>NaN</td>\n",
       "      <td>NaN</td>\n",
       "      <td>3.0</td>\n",
       "      <td>Tenderloin</td>\n",
       "      <td>94102.0</td>\n",
       "      <td>(37.785719256680785, -122.40852313194863)</td>\n",
       "      <td>1380611233945</td>\n",
       "    </tr>\n",
       "    <tr>\n",
       "      <th>1</th>\n",
       "      <td>201604195146</td>\n",
       "      <td>4</td>\n",
       "      <td>sign - erect</td>\n",
       "      <td>04/19/2016</td>\n",
       "      <td>0306</td>\n",
       "      <td>007</td>\n",
       "      <td>440</td>\n",
       "      <td>NaN</td>\n",
       "      <td>Geary</td>\n",
       "      <td>St</td>\n",
       "      <td>...</td>\n",
       "      <td>3.0</td>\n",
       "      <td>constr type 3</td>\n",
       "      <td>NaN</td>\n",
       "      <td>NaN</td>\n",
       "      <td>NaN</td>\n",
       "      <td>3.0</td>\n",
       "      <td>Tenderloin</td>\n",
       "      <td>94102.0</td>\n",
       "      <td>(37.78733980600732, -122.41063199757738)</td>\n",
       "      <td>1420164406718</td>\n",
       "    </tr>\n",
       "    <tr>\n",
       "      <th>2</th>\n",
       "      <td>201605278609</td>\n",
       "      <td>3</td>\n",
       "      <td>additions alterations or repairs</td>\n",
       "      <td>05/27/2016</td>\n",
       "      <td>0595</td>\n",
       "      <td>203</td>\n",
       "      <td>1647</td>\n",
       "      <td>NaN</td>\n",
       "      <td>Pacific</td>\n",
       "      <td>Av</td>\n",
       "      <td>...</td>\n",
       "      <td>1.0</td>\n",
       "      <td>constr type 1</td>\n",
       "      <td>1.0</td>\n",
       "      <td>constr type 1</td>\n",
       "      <td>NaN</td>\n",
       "      <td>3.0</td>\n",
       "      <td>Russian Hill</td>\n",
       "      <td>94109.0</td>\n",
       "      <td>(37.7946573324287, -122.42232562979227)</td>\n",
       "      <td>1424856504716</td>\n",
       "    </tr>\n",
       "    <tr>\n",
       "      <th>3</th>\n",
       "      <td>201611072166</td>\n",
       "      <td>8</td>\n",
       "      <td>otc alterations permit</td>\n",
       "      <td>11/07/2016</td>\n",
       "      <td>0156</td>\n",
       "      <td>011</td>\n",
       "      <td>1230</td>\n",
       "      <td>NaN</td>\n",
       "      <td>Pacific</td>\n",
       "      <td>Av</td>\n",
       "      <td>...</td>\n",
       "      <td>5.0</td>\n",
       "      <td>wood frame (5)</td>\n",
       "      <td>5.0</td>\n",
       "      <td>wood frame (5)</td>\n",
       "      <td>NaN</td>\n",
       "      <td>3.0</td>\n",
       "      <td>Nob Hill</td>\n",
       "      <td>94109.0</td>\n",
       "      <td>(37.79595867909168, -122.41557405519474)</td>\n",
       "      <td>1443574295566</td>\n",
       "    </tr>\n",
       "    <tr>\n",
       "      <th>4</th>\n",
       "      <td>201611283529</td>\n",
       "      <td>6</td>\n",
       "      <td>demolitions</td>\n",
       "      <td>11/28/2016</td>\n",
       "      <td>0342</td>\n",
       "      <td>001</td>\n",
       "      <td>950</td>\n",
       "      <td>NaN</td>\n",
       "      <td>Market</td>\n",
       "      <td>St</td>\n",
       "      <td>...</td>\n",
       "      <td>3.0</td>\n",
       "      <td>constr type 3</td>\n",
       "      <td>NaN</td>\n",
       "      <td>NaN</td>\n",
       "      <td>NaN</td>\n",
       "      <td>6.0</td>\n",
       "      <td>Tenderloin</td>\n",
       "      <td>94102.0</td>\n",
       "      <td>(37.78315261897309, -122.40950883997789)</td>\n",
       "      <td>144548169992</td>\n",
       "    </tr>\n",
       "  </tbody>\n",
       "</table>\n",
       "<p>5 rows × 43 columns</p>\n",
       "</div>"
      ],
      "text/plain": [
       "  Permit Number  Permit Type            Permit Type Definition  \\\n",
       "0  201505065519            4                      sign - erect   \n",
       "1  201604195146            4                      sign - erect   \n",
       "2  201605278609            3  additions alterations or repairs   \n",
       "3  201611072166            8            otc alterations permit   \n",
       "4  201611283529            6                       demolitions   \n",
       "\n",
       "  Permit Creation Date Block  Lot  Street Number Street Number Suffix  \\\n",
       "0           05/06/2015  0326  023            140                  NaN   \n",
       "1           04/19/2016  0306  007            440                  NaN   \n",
       "2           05/27/2016  0595  203           1647                  NaN   \n",
       "3           11/07/2016  0156  011           1230                  NaN   \n",
       "4           11/28/2016  0342  001            950                  NaN   \n",
       "\n",
       "  Street Name Street Suffix  ...  Existing Construction Type  \\\n",
       "0       Ellis            St  ...                         3.0   \n",
       "1       Geary            St  ...                         3.0   \n",
       "2     Pacific            Av  ...                         1.0   \n",
       "3     Pacific            Av  ...                         5.0   \n",
       "4      Market            St  ...                         3.0   \n",
       "\n",
       "  Existing Construction Type Description Proposed Construction Type  \\\n",
       "0                          constr type 3                        NaN   \n",
       "1                          constr type 3                        NaN   \n",
       "2                          constr type 1                        1.0   \n",
       "3                         wood frame (5)                        5.0   \n",
       "4                          constr type 3                        NaN   \n",
       "\n",
       "  Proposed Construction Type Description Site Permit Supervisor District  \\\n",
       "0                                    NaN         NaN                 3.0   \n",
       "1                                    NaN         NaN                 3.0   \n",
       "2                          constr type 1         NaN                 3.0   \n",
       "3                         wood frame (5)         NaN                 3.0   \n",
       "4                                    NaN         NaN                 6.0   \n",
       "\n",
       "  Neighborhoods - Analysis Boundaries  Zipcode  \\\n",
       "0                          Tenderloin  94102.0   \n",
       "1                          Tenderloin  94102.0   \n",
       "2                        Russian Hill  94109.0   \n",
       "3                            Nob Hill  94109.0   \n",
       "4                          Tenderloin  94102.0   \n",
       "\n",
       "                                    Location      Record ID  \n",
       "0  (37.785719256680785, -122.40852313194863)  1380611233945  \n",
       "1   (37.78733980600732, -122.41063199757738)  1420164406718  \n",
       "2    (37.7946573324287, -122.42232562979227)  1424856504716  \n",
       "3   (37.79595867909168, -122.41557405519474)  1443574295566  \n",
       "4   (37.78315261897309, -122.40950883997789)   144548169992  \n",
       "\n",
       "[5 rows x 43 columns]"
      ]
     },
     "execution_count": 3,
     "metadata": {},
     "output_type": "execute_result"
    }
   ],
   "source": [
    "sf_permits.head()"
   ]
  },
  {
   "cell_type": "markdown",
   "id": "4cd68234",
   "metadata": {
    "papermill": {
     "duration": 0.018581,
     "end_time": "2022-04-15T07:39:04.320578",
     "exception": false,
     "start_time": "2022-04-15T07:39:04.301997",
     "status": "completed"
    },
    "tags": []
   },
   "source": [
    "Does the dataset have any missing values?  Once you have an answer, run the code cell below to get credit for your work."
   ]
  },
  {
   "cell_type": "code",
   "execution_count": 4,
   "id": "4b33ff26",
   "metadata": {
    "execution": {
     "iopub.execute_input": "2022-04-15T07:39:04.359575Z",
     "iopub.status.busy": "2022-04-15T07:39:04.359049Z",
     "iopub.status.idle": "2022-04-15T07:39:04.588206Z",
     "shell.execute_reply": "2022-04-15T07:39:04.587299Z"
    },
    "papermill": {
     "duration": 0.250911,
     "end_time": "2022-04-15T07:39:04.590091",
     "exception": false,
     "start_time": "2022-04-15T07:39:04.339180",
     "status": "completed"
    },
    "tags": []
   },
   "outputs": [
    {
     "data": {
      "text/plain": [
       "Permit Number                  0\n",
       "Permit Type                    0\n",
       "Permit Type Definition         0\n",
       "Permit Creation Date           0\n",
       "Block                          0\n",
       "Lot                            0\n",
       "Street Number                  0\n",
       "Street Number Suffix      196684\n",
       "Street Name                    0\n",
       "Street Suffix               2768\n",
       "dtype: int64"
      ]
     },
     "execution_count": 4,
     "metadata": {},
     "output_type": "execute_result"
    }
   ],
   "source": [
    "missing_values_count = sf_permits.isnull().sum()\n",
    "missing_values_count[0:10]\n"
   ]
  },
  {
   "cell_type": "code",
   "execution_count": 5,
   "id": "f21a88c6",
   "metadata": {
    "execution": {
     "iopub.execute_input": "2022-04-15T07:39:04.630374Z",
     "iopub.status.busy": "2022-04-15T07:39:04.629825Z",
     "iopub.status.idle": "2022-04-15T07:39:04.637403Z",
     "shell.execute_reply": "2022-04-15T07:39:04.636786Z"
    },
    "papermill": {
     "duration": 0.029936,
     "end_time": "2022-04-15T07:39:04.639145",
     "exception": false,
     "start_time": "2022-04-15T07:39:04.609209",
     "status": "completed"
    },
    "tags": []
   },
   "outputs": [
    {
     "data": {
      "application/javascript": [
       "parent.postMessage({\"jupyterEvent\": \"custom.exercise_interaction\", \"data\": {\"outcomeType\": 1, \"valueTowardsCompletion\": 0.16666666666666666, \"interactionType\": 1, \"questionType\": 4, \"questionId\": \"1_TakeFirstLook\", \"learnToolsVersion\": \"0.3.4\", \"failureMessage\": \"\", \"exceptionClass\": \"\", \"trace\": \"\"}}, \"*\")"
      ],
      "text/plain": [
       "<IPython.core.display.Javascript object>"
      ]
     },
     "metadata": {},
     "output_type": "display_data"
    },
    {
     "data": {
      "text/markdown": [
       "<span style=\"color:#33cc33\">Correct:</span> \n",
       "\n",
       "The first five rows of the data does show that several columns have missing values.  You can see this in the \"Street Number Suffix\", \"Proposed Construction Type\" and \"Site Permit\" columns, among others."
      ],
      "text/plain": [
       "Correct: \n",
       "\n",
       "The first five rows of the data does show that several columns have missing values.  You can see this in the \"Street Number Suffix\", \"Proposed Construction Type\" and \"Site Permit\" columns, among others."
      ]
     },
     "metadata": {},
     "output_type": "display_data"
    }
   ],
   "source": [
    "# Check your answer (Run this code cell to receive credit!)\n",
    "q1.check()"
   ]
  },
  {
   "cell_type": "code",
   "execution_count": 6,
   "id": "4e987ef0",
   "metadata": {
    "execution": {
     "iopub.execute_input": "2022-04-15T07:39:04.681077Z",
     "iopub.status.busy": "2022-04-15T07:39:04.680552Z",
     "iopub.status.idle": "2022-04-15T07:39:04.683898Z",
     "shell.execute_reply": "2022-04-15T07:39:04.683364Z"
    },
    "papermill": {
     "duration": 0.026398,
     "end_time": "2022-04-15T07:39:04.685605",
     "exception": false,
     "start_time": "2022-04-15T07:39:04.659207",
     "status": "completed"
    },
    "tags": []
   },
   "outputs": [],
   "source": [
    "# Line below will give you a hint\n",
    "#q1.hint()"
   ]
  },
  {
   "cell_type": "markdown",
   "id": "695a4822",
   "metadata": {
    "papermill": {
     "duration": 0.02063,
     "end_time": "2022-04-15T07:39:04.726381",
     "exception": false,
     "start_time": "2022-04-15T07:39:04.705751",
     "status": "completed"
    },
    "tags": []
   },
   "source": [
    "# 2) How many missing data points do we have?\n",
    "\n",
    "What percentage of the values in the dataset are missing?  Your answer should be a number between 0 and 100.  (If 1/4 of the values in the dataset are missing, the answer is 25.)"
   ]
  },
  {
   "cell_type": "code",
   "execution_count": 7,
   "id": "9c08c17f",
   "metadata": {
    "execution": {
     "iopub.execute_input": "2022-04-15T07:39:04.768604Z",
     "iopub.status.busy": "2022-04-15T07:39:04.768320Z",
     "iopub.status.idle": "2022-04-15T07:39:04.775063Z",
     "shell.execute_reply": "2022-04-15T07:39:04.774315Z"
    },
    "papermill": {
     "duration": 0.029937,
     "end_time": "2022-04-15T07:39:04.776942",
     "exception": false,
     "start_time": "2022-04-15T07:39:04.747005",
     "status": "completed"
    },
    "tags": []
   },
   "outputs": [
    {
     "data": {
      "text/plain": [
       "26"
      ]
     },
     "execution_count": 7,
     "metadata": {},
     "output_type": "execute_result"
    }
   ],
   "source": [
    "total_cells = np.prod(sf_permits.shape)\n",
    "missing_cells = missing_values_count.sum()\n",
    "percent_missing = (missing_cells/total_cells)*100\n",
    "round(percent_missing)\n",
    "\n",
    "# Check your answer"
   ]
  },
  {
   "cell_type": "code",
   "execution_count": 8,
   "id": "5ff0a9d8",
   "metadata": {
    "execution": {
     "iopub.execute_input": "2022-04-15T07:39:04.820505Z",
     "iopub.status.busy": "2022-04-15T07:39:04.819607Z",
     "iopub.status.idle": "2022-04-15T07:39:04.823414Z",
     "shell.execute_reply": "2022-04-15T07:39:04.822860Z"
    },
    "papermill": {
     "duration": 0.02751,
     "end_time": "2022-04-15T07:39:04.825239",
     "exception": false,
     "start_time": "2022-04-15T07:39:04.797729",
     "status": "completed"
    },
    "tags": []
   },
   "outputs": [],
   "source": [
    "# Lines below will give you a hint or solution code\n",
    "#q2.hint()\n",
    "#q2.solution()"
   ]
  },
  {
   "cell_type": "markdown",
   "id": "5fe257c9",
   "metadata": {
    "papermill": {
     "duration": 0.02068,
     "end_time": "2022-04-15T07:39:04.867309",
     "exception": false,
     "start_time": "2022-04-15T07:39:04.846629",
     "status": "completed"
    },
    "tags": []
   },
   "source": [
    "# 3) Figure out why the data is missing\n",
    "\n",
    "Look at the columns **\"Street Number Suffix\"** and **\"Zipcode\"** from the [San Francisco Building Permits dataset](https://www.kaggle.com/aparnashastry/building-permit-applications-data). Both of these contain missing values. \n",
    "- Which, if either, are missing because they don't exist? \n",
    "- Which, if either, are missing because they weren't recorded?  \n",
    "\n",
    "Once you have an answer, run the code cell below."
   ]
  },
  {
   "cell_type": "code",
   "execution_count": 9,
   "id": "d4f7cbc4",
   "metadata": {
    "execution": {
     "iopub.execute_input": "2022-04-15T07:39:04.910697Z",
     "iopub.status.busy": "2022-04-15T07:39:04.910413Z",
     "iopub.status.idle": "2022-04-15T07:39:04.916505Z",
     "shell.execute_reply": "2022-04-15T07:39:04.915730Z"
    },
    "papermill": {
     "duration": 0.03044,
     "end_time": "2022-04-15T07:39:04.918584",
     "exception": false,
     "start_time": "2022-04-15T07:39:04.888144",
     "status": "completed"
    },
    "tags": []
   },
   "outputs": [
    {
     "data": {
      "text/plain": [
       "Permit Number                                  0\n",
       "Permit Type                                    0\n",
       "Permit Type Definition                         0\n",
       "Permit Creation Date                           0\n",
       "Block                                          0\n",
       "Lot                                            0\n",
       "Street Number                                  0\n",
       "Street Number Suffix                      196684\n",
       "Street Name                                    0\n",
       "Street Suffix                               2768\n",
       "Unit                                      169421\n",
       "Unit Suffix                               196939\n",
       "Description                                  290\n",
       "Current Status                                 0\n",
       "Current Status Date                            0\n",
       "Filed Date                                     0\n",
       "Issued Date                                14940\n",
       "Completed Date                            101709\n",
       "First Construction Document Date           14946\n",
       "Structural Notification                   191978\n",
       "Number of Existing Stories                 42784\n",
       "Number of Proposed Stories                 42868\n",
       "Voluntary Soft-Story Retrofit             198865\n",
       "Fire Only Permit                          180073\n",
       "Permit Expiration Date                     51880\n",
       "Estimated Cost                             38066\n",
       "Revised Cost                                6066\n",
       "Existing Use                               41114\n",
       "Existing Units                             51538\n",
       "Proposed Use                               42439\n",
       "Proposed Units                             50911\n",
       "Plansets                                   37309\n",
       "TIDF Compliance                           198898\n",
       "Existing Construction Type                 43366\n",
       "Existing Construction Type Description     43366\n",
       "Proposed Construction Type                 43162\n",
       "Proposed Construction Type Description     43162\n",
       "Site Permit                               193541\n",
       "Supervisor District                         1717\n",
       "Neighborhoods - Analysis Boundaries         1725\n",
       "Zipcode                                     1716\n",
       "Location                                    1700\n",
       "Record ID                                      0\n",
       "dtype: int64"
      ]
     },
     "execution_count": 9,
     "metadata": {},
     "output_type": "execute_result"
    }
   ],
   "source": [
    "# Check your answer (Run this code cell to receive credit!)\n",
    "missing_values_count"
   ]
  },
  {
   "cell_type": "code",
   "execution_count": 10,
   "id": "9b54cbd8",
   "metadata": {
    "execution": {
     "iopub.execute_input": "2022-04-15T07:39:04.962719Z",
     "iopub.status.busy": "2022-04-15T07:39:04.961904Z",
     "iopub.status.idle": "2022-04-15T07:39:04.965680Z",
     "shell.execute_reply": "2022-04-15T07:39:04.965035Z"
    },
    "papermill": {
     "duration": 0.037692,
     "end_time": "2022-04-15T07:39:04.977263",
     "exception": false,
     "start_time": "2022-04-15T07:39:04.939571",
     "status": "completed"
    },
    "tags": []
   },
   "outputs": [],
   "source": [
    "# Line below will give you a hint\n",
    "#q3.hint()"
   ]
  },
  {
   "cell_type": "markdown",
   "id": "67448af0",
   "metadata": {
    "papermill": {
     "duration": 0.021051,
     "end_time": "2022-04-15T07:39:05.026956",
     "exception": false,
     "start_time": "2022-04-15T07:39:05.005905",
     "status": "completed"
    },
    "tags": []
   },
   "source": [
    "# 4) Drop missing values: rows\n",
    "\n",
    "If you removed all of the rows of `sf_permits` with missing values, how many rows are left?\n",
    "\n",
    "**Note**: Do not change the value of `sf_permits` when checking this.  "
   ]
  },
  {
   "cell_type": "code",
   "execution_count": 11,
   "id": "9fae24f0",
   "metadata": {
    "execution": {
     "iopub.execute_input": "2022-04-15T07:39:05.071055Z",
     "iopub.status.busy": "2022-04-15T07:39:05.070543Z",
     "iopub.status.idle": "2022-04-15T07:39:05.303206Z",
     "shell.execute_reply": "2022-04-15T07:39:05.302524Z"
    },
    "papermill": {
     "duration": 0.25712,
     "end_time": "2022-04-15T07:39:05.305340",
     "exception": false,
     "start_time": "2022-04-15T07:39:05.048220",
     "status": "completed"
    },
    "tags": []
   },
   "outputs": [],
   "source": [
    "# TODO: Your code here!\n",
    "dropall = sf_permits.dropna()\n"
   ]
  },
  {
   "cell_type": "markdown",
   "id": "cfe1700d",
   "metadata": {
    "papermill": {
     "duration": 0.020798,
     "end_time": "2022-04-15T07:39:05.347336",
     "exception": false,
     "start_time": "2022-04-15T07:39:05.326538",
     "status": "completed"
    },
    "tags": []
   },
   "source": [
    "Once you have an answer, run the code cell below."
   ]
  },
  {
   "cell_type": "code",
   "execution_count": 12,
   "id": "2d4d6fa6",
   "metadata": {
    "execution": {
     "iopub.execute_input": "2022-04-15T07:39:05.391136Z",
     "iopub.status.busy": "2022-04-15T07:39:05.390754Z",
     "iopub.status.idle": "2022-04-15T07:39:05.397330Z",
     "shell.execute_reply": "2022-04-15T07:39:05.396731Z"
    },
    "papermill": {
     "duration": 0.030459,
     "end_time": "2022-04-15T07:39:05.398965",
     "exception": false,
     "start_time": "2022-04-15T07:39:05.368506",
     "status": "completed"
    },
    "tags": []
   },
   "outputs": [
    {
     "data": {
      "application/javascript": [
       "parent.postMessage({\"jupyterEvent\": \"custom.exercise_interaction\", \"data\": {\"outcomeType\": 1, \"valueTowardsCompletion\": 0.16666666666666666, \"interactionType\": 1, \"questionType\": 4, \"questionId\": \"4_DropMissingRows\", \"learnToolsVersion\": \"0.3.4\", \"failureMessage\": \"\", \"exceptionClass\": \"\", \"trace\": \"\"}}, \"*\")"
      ],
      "text/plain": [
       "<IPython.core.display.Javascript object>"
      ]
     },
     "metadata": {},
     "output_type": "display_data"
    },
    {
     "data": {
      "text/markdown": [
       "<span style=\"color:#33cc33\">Correct:</span> \n",
       "\n",
       "There are no rows remaining in the dataset!"
      ],
      "text/plain": [
       "Correct: \n",
       "\n",
       "There are no rows remaining in the dataset!"
      ]
     },
     "metadata": {},
     "output_type": "display_data"
    }
   ],
   "source": [
    "# Check your answer (Run this code cell to receive credit!)\n",
    "q4.check()"
   ]
  },
  {
   "cell_type": "code",
   "execution_count": 13,
   "id": "6e7f412e",
   "metadata": {
    "execution": {
     "iopub.execute_input": "2022-04-15T07:39:05.445712Z",
     "iopub.status.busy": "2022-04-15T07:39:05.444869Z",
     "iopub.status.idle": "2022-04-15T07:39:05.448742Z",
     "shell.execute_reply": "2022-04-15T07:39:05.448026Z"
    },
    "papermill": {
     "duration": 0.028929,
     "end_time": "2022-04-15T07:39:05.450552",
     "exception": false,
     "start_time": "2022-04-15T07:39:05.421623",
     "status": "completed"
    },
    "tags": []
   },
   "outputs": [],
   "source": [
    "# Line below will give you a hint\n",
    "#q4.hint()"
   ]
  },
  {
   "cell_type": "markdown",
   "id": "4aff7cb5",
   "metadata": {
    "papermill": {
     "duration": 0.021808,
     "end_time": "2022-04-15T07:39:05.494684",
     "exception": false,
     "start_time": "2022-04-15T07:39:05.472876",
     "status": "completed"
    },
    "tags": []
   },
   "source": [
    "# 5) Drop missing values: columns\n",
    "\n",
    "Now try removing all the columns with empty values.  \n",
    "- Create a new DataFrame called `sf_permits_with_na_dropped` that has all of the columns with empty values removed.  \n",
    "- How many columns were removed from the original `sf_permits` DataFrame? Use this number to set the value of the `dropped_columns` variable below."
   ]
  },
  {
   "cell_type": "code",
   "execution_count": 14,
   "id": "b1c1fdca",
   "metadata": {
    "execution": {
     "iopub.execute_input": "2022-04-15T07:39:05.540746Z",
     "iopub.status.busy": "2022-04-15T07:39:05.540249Z",
     "iopub.status.idle": "2022-04-15T07:39:05.783295Z",
     "shell.execute_reply": "2022-04-15T07:39:05.782734Z"
    },
    "papermill": {
     "duration": 0.268339,
     "end_time": "2022-04-15T07:39:05.785179",
     "exception": false,
     "start_time": "2022-04-15T07:39:05.516840",
     "status": "completed"
    },
    "tags": []
   },
   "outputs": [
    {
     "data": {
      "text/plain": [
       "12"
      ]
     },
     "execution_count": 14,
     "metadata": {},
     "output_type": "execute_result"
    }
   ],
   "source": [
    "# TODO: Your code here\n",
    "\n",
    "sf_permits_with_na_dropped = sf_permits.dropna(axis = 1)\n",
    "\n",
    "dropped_columns = sf_permits_with_na_dropped.shape\n",
    "\n",
    "# Check your answer\n",
    "dropped_columns[1]"
   ]
  },
  {
   "cell_type": "code",
   "execution_count": 15,
   "id": "70791820",
   "metadata": {
    "execution": {
     "iopub.execute_input": "2022-04-15T07:39:05.832665Z",
     "iopub.status.busy": "2022-04-15T07:39:05.832238Z",
     "iopub.status.idle": "2022-04-15T07:39:05.834983Z",
     "shell.execute_reply": "2022-04-15T07:39:05.834449Z"
    },
    "papermill": {
     "duration": 0.028456,
     "end_time": "2022-04-15T07:39:05.836700",
     "exception": false,
     "start_time": "2022-04-15T07:39:05.808244",
     "status": "completed"
    },
    "tags": []
   },
   "outputs": [],
   "source": [
    "# Lines below will give you a hint or solution code\n",
    "#q5.hint()\n",
    "#q5.solution()"
   ]
  },
  {
   "cell_type": "markdown",
   "id": "dbaf2e67",
   "metadata": {
    "papermill": {
     "duration": 0.02263,
     "end_time": "2022-04-15T07:39:05.882436",
     "exception": false,
     "start_time": "2022-04-15T07:39:05.859806",
     "status": "completed"
    },
    "tags": []
   },
   "source": [
    "# 6) Fill in missing values automatically\n",
    "\n",
    "Try replacing all the NaN's in the `sf_permits` data with the one that comes directly after it and then replacing any remaining NaN's with 0.  Set the result to a new DataFrame `sf_permits_with_na_imputed`."
   ]
  },
  {
   "cell_type": "code",
   "execution_count": 16,
   "id": "065ca59c",
   "metadata": {
    "execution": {
     "iopub.execute_input": "2022-04-15T07:39:05.931497Z",
     "iopub.status.busy": "2022-04-15T07:39:05.931048Z",
     "iopub.status.idle": "2022-04-15T07:39:07.037030Z",
     "shell.execute_reply": "2022-04-15T07:39:07.032949Z"
    },
    "papermill": {
     "duration": 1.132627,
     "end_time": "2022-04-15T07:39:07.039161",
     "exception": false,
     "start_time": "2022-04-15T07:39:05.906534",
     "status": "completed"
    },
    "tags": []
   },
   "outputs": [
    {
     "data": {
      "text/plain": [
       "Permit Number                             0\n",
       "Permit Type                               0\n",
       "Permit Type Definition                    0\n",
       "Permit Creation Date                      0\n",
       "Block                                     0\n",
       "Lot                                       0\n",
       "Street Number                             0\n",
       "Street Number Suffix                      0\n",
       "Street Name                               0\n",
       "Street Suffix                             0\n",
       "Unit                                      0\n",
       "Unit Suffix                               0\n",
       "Description                               0\n",
       "Current Status                            0\n",
       "Current Status Date                       0\n",
       "Filed Date                                0\n",
       "Issued Date                               0\n",
       "Completed Date                            0\n",
       "First Construction Document Date          0\n",
       "Structural Notification                   0\n",
       "Number of Existing Stories                0\n",
       "Number of Proposed Stories                0\n",
       "Voluntary Soft-Story Retrofit             0\n",
       "Fire Only Permit                          0\n",
       "Permit Expiration Date                    0\n",
       "Estimated Cost                            0\n",
       "Revised Cost                              0\n",
       "Existing Use                              0\n",
       "Existing Units                            0\n",
       "Proposed Use                              0\n",
       "Proposed Units                            0\n",
       "Plansets                                  0\n",
       "TIDF Compliance                           0\n",
       "Existing Construction Type                0\n",
       "Existing Construction Type Description    0\n",
       "Proposed Construction Type                0\n",
       "Proposed Construction Type Description    0\n",
       "Site Permit                               0\n",
       "Supervisor District                       0\n",
       "Neighborhoods - Analysis Boundaries       0\n",
       "Zipcode                                   0\n",
       "Location                                  0\n",
       "Record ID                                 0\n",
       "dtype: int64"
      ]
     },
     "execution_count": 16,
     "metadata": {},
     "output_type": "execute_result"
    }
   ],
   "source": [
    "# TODO: Your code here\n",
    "sf_permits_with_na_imputed = sf_permits.fillna(method = 'bfill', axis = 0).fillna(0)\n",
    "sf_permits_with_na_imputed.isnull().sum()\n"
   ]
  },
  {
   "cell_type": "code",
   "execution_count": null,
   "id": "c492cec4",
   "metadata": {
    "papermill": {
     "duration": 0.023663,
     "end_time": "2022-04-15T07:39:07.086249",
     "exception": false,
     "start_time": "2022-04-15T07:39:07.062586",
     "status": "completed"
    },
    "tags": []
   },
   "outputs": [],
   "source": []
  },
  {
   "cell_type": "markdown",
   "id": "91507dc2",
   "metadata": {
    "papermill": {
     "duration": 0.023084,
     "end_time": "2022-04-15T07:39:07.134019",
     "exception": false,
     "start_time": "2022-04-15T07:39:07.110935",
     "status": "completed"
    },
    "tags": []
   },
   "source": [
    "# More practice\n",
    "\n",
    "If you're looking for more practice handling missing values:\n",
    "\n",
    "* Check out [this noteboook](https://www.kaggle.com/alexisbcook/missing-values) on handling missing values using scikit-learn's imputer. \n",
    "* Look back at the \"Zipcode\" column in the `sf_permits` dataset, which has some missing values. How would you go about figuring out what the actual zipcode of each address should be? (You might try using another dataset. You can search for datasets about San Fransisco on the [Datasets listing](https://www.kaggle.com/datasets).) \n",
    "\n",
    "# Keep going\n",
    "\n",
    "In the next lesson, learn how to [**apply scaling and normalization**](https://www.kaggle.com/alexisbcook/scaling-and-normalization) to transform your data."
   ]
  },
  {
   "cell_type": "markdown",
   "id": "297ddaf7",
   "metadata": {
    "papermill": {
     "duration": 0.022982,
     "end_time": "2022-04-15T07:39:07.180420",
     "exception": false,
     "start_time": "2022-04-15T07:39:07.157438",
     "status": "completed"
    },
    "tags": []
   },
   "source": [
    "---\n",
    "\n",
    "\n",
    "\n",
    "\n",
    "*Have questions or comments? Visit the [course discussion forum](https://www.kaggle.com/learn/data-cleaning/discussion) to chat with other learners.*"
   ]
  }
 ],
 "metadata": {
  "kernelspec": {
   "display_name": "Python 3",
   "language": "python",
   "name": "python3"
  },
  "language_info": {
   "codemirror_mode": {
    "name": "ipython",
    "version": 3
   },
   "file_extension": ".py",
   "mimetype": "text/x-python",
   "name": "python",
   "nbconvert_exporter": "python",
   "pygments_lexer": "ipython3",
   "version": "3.7.12"
  },
  "papermill": {
   "default_parameters": {},
   "duration": 17.364234,
   "end_time": "2022-04-15T07:39:07.925014",
   "environment_variables": {},
   "exception": null,
   "input_path": "__notebook__.ipynb",
   "output_path": "__notebook__.ipynb",
   "parameters": {},
   "start_time": "2022-04-15T07:38:50.560780",
   "version": "2.3.4"
  }
 },
 "nbformat": 4,
 "nbformat_minor": 5
}
